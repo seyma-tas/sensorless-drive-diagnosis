{
 "cells": [
  {
   "cell_type": "markdown",
   "metadata": {},
   "source": [
    "# Sensorless Drive Diagnosis Project"
   ]
  },
  {
   "cell_type": "markdown",
   "metadata": {},
   "source": [
    "#### Purpose of the project\n",
    "To build a multi-class classification model with numerical attributes\n",
    "\n",
    "#### About the dataset\n",
    "Dataset used in the analysis: Sensorless Drive Diagnosis dataset\n",
    "\n",
    "https://archive.ics.uci.edu/ml/datasets/Dataset+for+Sensorless+Drive+Diagnosis \n",
    "\n",
    "The dataset contains features extracted from electric current drive signals.\n",
    "\n",
    "There are 48 continous predictive features. The target feature contains 11 classes. \n",
    "\n",
    "\n",
    "\n",
    "\n"
   ]
  },
  {
   "cell_type": "markdown",
   "metadata": {},
   "source": [
    "SUMMARY: The purpose of this project is to construct a predictive model using various machine learning algorithms and to document the end-to-end steps using a template. The Sensorless Drive Diagnosis is a multi-class classification situation where we are trying to predict one of the several possible outcomes.\n",
    "\n",
    "INTRODUCTION: The dataset contains features extracted from electric current drive signals. The drive has both intact and defective components. The signals can result in 11 different classes with different conditions. Each condition has been measured several times by 12 different operating conditions, such as speeds, load moments, and load forces.\n",
    "\n",
    "In this iteration, we will establish the baseline accuracy measurement for comparison with future rounds of modeling.\n",
    "\n",
    "ANALYSIS: The baseline performance of the machine learning algorithms achieved an average accuracy of 84.65%. Two algorithms (Random Forest and Extra Trees) achieved the top accuracy metrics after the first round of modeling. After a series of tuning trials, Extra Trees turned in the top overall result and achieved an accuracy metric of 99.95%. After applying the optimized parameters, the Extra Trees algorithm processed the testing dataset with an accuracy of 99.97%, which was even better than the prediction from the training data.\n",
    "\n",
    "CONCLUSION: For this iteration, the Extra Trees algorithm achieved the best overall training and validation results. For this dataset, Extra Trees could be considered for further modeling."
   ]
  },
  {
   "cell_type": "markdown",
   "metadata": {},
   "source": [
    "### Load Libraries And Modules"
   ]
  },
  {
   "cell_type": "code",
   "execution_count": 1,
   "metadata": {
    "ExecuteTime": {
     "end_time": "2021-04-06T19:13:21.466289Z",
     "start_time": "2021-04-06T19:13:19.876394Z"
    }
   },
   "outputs": [],
   "source": [
    "import pandas as pd\n",
    "import numpy as np\n",
    "import matplotlib.pyplot as plt\n",
    "import seaborn as sns\n",
    "sns.set_style('darkgrid', {'axes.facecolor': '0.9'})\n",
    "sns.set(rc={'figure.figsize': (35, 20)},font_scale=2.1) \n",
    "from sklearn.model_selection import train_test_split, cross_val_score, GridSearchCV, ParameterGrid, RandomizedSearchCV\n",
    "from sklearn.linear_model import LogisticRegression, SGDClassifier\n",
    "from sklearn.metrics import recall_score, f1_score, fbeta_score, r2_score, roc_auc_score, roc_curve, auc, cohen_kappa_score\n",
    "from sklearn.metrics import classification_report, confusion_matrix, accuracy_score, precision_score\n",
    "from sklearn.pipeline import Pipeline\n",
    "import xgboost as xgb"
   ]
  },
  {
   "cell_type": "markdown",
   "metadata": {},
   "source": [
    "### Load Dataset"
   ]
  },
  {
   "cell_type": "code",
   "execution_count": 2,
   "metadata": {
    "ExecuteTime": {
     "end_time": "2021-04-06T19:13:22.274037Z",
     "start_time": "2021-04-06T19:13:21.789843Z"
    }
   },
   "outputs": [
    {
     "data": {
      "text/html": [
       "<div>\n",
       "<style scoped>\n",
       "    .dataframe tbody tr th:only-of-type {\n",
       "        vertical-align: middle;\n",
       "    }\n",
       "\n",
       "    .dataframe tbody tr th {\n",
       "        vertical-align: top;\n",
       "    }\n",
       "\n",
       "    .dataframe thead th {\n",
       "        text-align: right;\n",
       "    }\n",
       "</style>\n",
       "<table border=\"1\" class=\"dataframe\">\n",
       "  <thead>\n",
       "    <tr style=\"text-align: right;\">\n",
       "      <th></th>\n",
       "      <th>feat0</th>\n",
       "      <th>feat1</th>\n",
       "      <th>feat2</th>\n",
       "      <th>feat3</th>\n",
       "      <th>feat4</th>\n",
       "      <th>feat5</th>\n",
       "      <th>feat6</th>\n",
       "      <th>feat7</th>\n",
       "      <th>feat8</th>\n",
       "      <th>feat9</th>\n",
       "      <th>...</th>\n",
       "      <th>feat39</th>\n",
       "      <th>feat40</th>\n",
       "      <th>feat41</th>\n",
       "      <th>feat42</th>\n",
       "      <th>feat43</th>\n",
       "      <th>feat44</th>\n",
       "      <th>feat45</th>\n",
       "      <th>feat46</th>\n",
       "      <th>feat47</th>\n",
       "      <th>class</th>\n",
       "    </tr>\n",
       "  </thead>\n",
       "  <tbody>\n",
       "    <tr>\n",
       "      <td>0</td>\n",
       "      <td>-3.014600e-07</td>\n",
       "      <td>8.260300e-06</td>\n",
       "      <td>-0.000012</td>\n",
       "      <td>-0.000002</td>\n",
       "      <td>-1.438600e-06</td>\n",
       "      <td>-0.000021</td>\n",
       "      <td>0.031718</td>\n",
       "      <td>0.031710</td>\n",
       "      <td>0.031721</td>\n",
       "      <td>-0.032963</td>\n",
       "      <td>...</td>\n",
       "      <td>-0.63308</td>\n",
       "      <td>2.9646</td>\n",
       "      <td>8.1198</td>\n",
       "      <td>-1.4961</td>\n",
       "      <td>-1.4961</td>\n",
       "      <td>-1.4961</td>\n",
       "      <td>-1.4996</td>\n",
       "      <td>-1.4996</td>\n",
       "      <td>-1.4996</td>\n",
       "      <td>1</td>\n",
       "    </tr>\n",
       "    <tr>\n",
       "      <td>1</td>\n",
       "      <td>2.913200e-06</td>\n",
       "      <td>-5.247700e-06</td>\n",
       "      <td>0.000003</td>\n",
       "      <td>-0.000006</td>\n",
       "      <td>2.778900e-06</td>\n",
       "      <td>-0.000004</td>\n",
       "      <td>0.030804</td>\n",
       "      <td>0.030810</td>\n",
       "      <td>0.030806</td>\n",
       "      <td>-0.033520</td>\n",
       "      <td>...</td>\n",
       "      <td>-0.59314</td>\n",
       "      <td>7.6252</td>\n",
       "      <td>6.1690</td>\n",
       "      <td>-1.4967</td>\n",
       "      <td>-1.4967</td>\n",
       "      <td>-1.4967</td>\n",
       "      <td>-1.5005</td>\n",
       "      <td>-1.5005</td>\n",
       "      <td>-1.5005</td>\n",
       "      <td>1</td>\n",
       "    </tr>\n",
       "    <tr>\n",
       "      <td>2</td>\n",
       "      <td>-2.951700e-06</td>\n",
       "      <td>-3.184000e-06</td>\n",
       "      <td>-0.000016</td>\n",
       "      <td>-0.000001</td>\n",
       "      <td>-1.575300e-06</td>\n",
       "      <td>0.000017</td>\n",
       "      <td>0.032877</td>\n",
       "      <td>0.032880</td>\n",
       "      <td>0.032896</td>\n",
       "      <td>-0.029834</td>\n",
       "      <td>...</td>\n",
       "      <td>-0.63252</td>\n",
       "      <td>2.7784</td>\n",
       "      <td>5.3017</td>\n",
       "      <td>-1.4983</td>\n",
       "      <td>-1.4983</td>\n",
       "      <td>-1.4982</td>\n",
       "      <td>-1.4985</td>\n",
       "      <td>-1.4985</td>\n",
       "      <td>-1.4985</td>\n",
       "      <td>1</td>\n",
       "    </tr>\n",
       "    <tr>\n",
       "      <td>3</td>\n",
       "      <td>-1.322600e-06</td>\n",
       "      <td>8.820100e-06</td>\n",
       "      <td>-0.000016</td>\n",
       "      <td>-0.000005</td>\n",
       "      <td>-7.282900e-07</td>\n",
       "      <td>0.000004</td>\n",
       "      <td>0.029410</td>\n",
       "      <td>0.029401</td>\n",
       "      <td>0.029417</td>\n",
       "      <td>-0.030156</td>\n",
       "      <td>...</td>\n",
       "      <td>-0.62289</td>\n",
       "      <td>6.5534</td>\n",
       "      <td>6.2606</td>\n",
       "      <td>-1.4963</td>\n",
       "      <td>-1.4963</td>\n",
       "      <td>-1.4963</td>\n",
       "      <td>-1.4975</td>\n",
       "      <td>-1.4975</td>\n",
       "      <td>-1.4976</td>\n",
       "      <td>1</td>\n",
       "    </tr>\n",
       "    <tr>\n",
       "      <td>4</td>\n",
       "      <td>-6.836600e-08</td>\n",
       "      <td>5.666300e-07</td>\n",
       "      <td>-0.000026</td>\n",
       "      <td>-0.000006</td>\n",
       "      <td>-7.940600e-07</td>\n",
       "      <td>0.000013</td>\n",
       "      <td>0.030119</td>\n",
       "      <td>0.030119</td>\n",
       "      <td>0.030145</td>\n",
       "      <td>-0.031393</td>\n",
       "      <td>...</td>\n",
       "      <td>-0.63010</td>\n",
       "      <td>4.5155</td>\n",
       "      <td>9.5231</td>\n",
       "      <td>-1.4958</td>\n",
       "      <td>-1.4958</td>\n",
       "      <td>-1.4958</td>\n",
       "      <td>-1.4959</td>\n",
       "      <td>-1.4959</td>\n",
       "      <td>-1.4959</td>\n",
       "      <td>1</td>\n",
       "    </tr>\n",
       "  </tbody>\n",
       "</table>\n",
       "<p>5 rows × 49 columns</p>\n",
       "</div>"
      ],
      "text/plain": [
       "          feat0         feat1     feat2     feat3         feat4     feat5  \\\n",
       "0 -3.014600e-07  8.260300e-06 -0.000012 -0.000002 -1.438600e-06 -0.000021   \n",
       "1  2.913200e-06 -5.247700e-06  0.000003 -0.000006  2.778900e-06 -0.000004   \n",
       "2 -2.951700e-06 -3.184000e-06 -0.000016 -0.000001 -1.575300e-06  0.000017   \n",
       "3 -1.322600e-06  8.820100e-06 -0.000016 -0.000005 -7.282900e-07  0.000004   \n",
       "4 -6.836600e-08  5.666300e-07 -0.000026 -0.000006 -7.940600e-07  0.000013   \n",
       "\n",
       "      feat6     feat7     feat8     feat9  ...   feat39  feat40  feat41  \\\n",
       "0  0.031718  0.031710  0.031721 -0.032963  ... -0.63308  2.9646  8.1198   \n",
       "1  0.030804  0.030810  0.030806 -0.033520  ... -0.59314  7.6252  6.1690   \n",
       "2  0.032877  0.032880  0.032896 -0.029834  ... -0.63252  2.7784  5.3017   \n",
       "3  0.029410  0.029401  0.029417 -0.030156  ... -0.62289  6.5534  6.2606   \n",
       "4  0.030119  0.030119  0.030145 -0.031393  ... -0.63010  4.5155  9.5231   \n",
       "\n",
       "   feat42  feat43  feat44  feat45  feat46  feat47  class  \n",
       "0 -1.4961 -1.4961 -1.4961 -1.4996 -1.4996 -1.4996      1  \n",
       "1 -1.4967 -1.4967 -1.4967 -1.5005 -1.5005 -1.5005      1  \n",
       "2 -1.4983 -1.4983 -1.4982 -1.4985 -1.4985 -1.4985      1  \n",
       "3 -1.4963 -1.4963 -1.4963 -1.4975 -1.4975 -1.4976      1  \n",
       "4 -1.4958 -1.4958 -1.4958 -1.4959 -1.4959 -1.4959      1  \n",
       "\n",
       "[5 rows x 49 columns]"
      ]
     },
     "metadata": {},
     "output_type": "display_data"
    },
    {
     "data": {
      "text/html": [
       "<div>\n",
       "<style scoped>\n",
       "    .dataframe tbody tr th:only-of-type {\n",
       "        vertical-align: middle;\n",
       "    }\n",
       "\n",
       "    .dataframe tbody tr th {\n",
       "        vertical-align: top;\n",
       "    }\n",
       "\n",
       "    .dataframe thead th {\n",
       "        text-align: right;\n",
       "    }\n",
       "</style>\n",
       "<table border=\"1\" class=\"dataframe\">\n",
       "  <thead>\n",
       "    <tr style=\"text-align: right;\">\n",
       "      <th></th>\n",
       "      <th>feat0</th>\n",
       "      <th>feat1</th>\n",
       "      <th>feat2</th>\n",
       "      <th>feat3</th>\n",
       "      <th>feat4</th>\n",
       "      <th>feat5</th>\n",
       "      <th>feat6</th>\n",
       "      <th>feat7</th>\n",
       "      <th>feat8</th>\n",
       "      <th>feat9</th>\n",
       "      <th>...</th>\n",
       "      <th>feat39</th>\n",
       "      <th>feat40</th>\n",
       "      <th>feat41</th>\n",
       "      <th>feat42</th>\n",
       "      <th>feat43</th>\n",
       "      <th>feat44</th>\n",
       "      <th>feat45</th>\n",
       "      <th>feat46</th>\n",
       "      <th>feat47</th>\n",
       "      <th>class</th>\n",
       "    </tr>\n",
       "  </thead>\n",
       "  <tbody>\n",
       "    <tr>\n",
       "      <td>58504</td>\n",
       "      <td>-0.000010</td>\n",
       "      <td>0.000002</td>\n",
       "      <td>-0.000021</td>\n",
       "      <td>0.000021</td>\n",
       "      <td>-0.000006</td>\n",
       "      <td>-0.000098</td>\n",
       "      <td>-0.083417</td>\n",
       "      <td>-0.083419</td>\n",
       "      <td>-0.083398</td>\n",
       "      <td>-0.18234</td>\n",
       "      <td>...</td>\n",
       "      <td>-0.52907</td>\n",
       "      <td>1.4641</td>\n",
       "      <td>7.0032</td>\n",
       "      <td>-1.5024</td>\n",
       "      <td>-1.5025</td>\n",
       "      <td>-1.5023</td>\n",
       "      <td>-1.4933</td>\n",
       "      <td>-1.4933</td>\n",
       "      <td>-1.4933</td>\n",
       "      <td>11</td>\n",
       "    </tr>\n",
       "    <tr>\n",
       "      <td>58505</td>\n",
       "      <td>-0.000011</td>\n",
       "      <td>0.000020</td>\n",
       "      <td>0.000031</td>\n",
       "      <td>-0.000018</td>\n",
       "      <td>-0.000106</td>\n",
       "      <td>0.000292</td>\n",
       "      <td>-0.085131</td>\n",
       "      <td>-0.085151</td>\n",
       "      <td>-0.085182</td>\n",
       "      <td>-0.18432</td>\n",
       "      <td>...</td>\n",
       "      <td>-0.51971</td>\n",
       "      <td>3.3275</td>\n",
       "      <td>2.3072</td>\n",
       "      <td>-1.5024</td>\n",
       "      <td>-1.5025</td>\n",
       "      <td>-1.5024</td>\n",
       "      <td>-1.4925</td>\n",
       "      <td>-1.4925</td>\n",
       "      <td>-1.4926</td>\n",
       "      <td>11</td>\n",
       "    </tr>\n",
       "    <tr>\n",
       "      <td>58506</td>\n",
       "      <td>-0.000006</td>\n",
       "      <td>0.000019</td>\n",
       "      <td>-0.000102</td>\n",
       "      <td>-0.000003</td>\n",
       "      <td>0.000004</td>\n",
       "      <td>0.000117</td>\n",
       "      <td>-0.081989</td>\n",
       "      <td>-0.082008</td>\n",
       "      <td>-0.081906</td>\n",
       "      <td>-0.18614</td>\n",
       "      <td>...</td>\n",
       "      <td>-0.51103</td>\n",
       "      <td>20.9250</td>\n",
       "      <td>9.0437</td>\n",
       "      <td>-1.5035</td>\n",
       "      <td>-1.5035</td>\n",
       "      <td>-1.5039</td>\n",
       "      <td>-1.4911</td>\n",
       "      <td>-1.4912</td>\n",
       "      <td>-1.4910</td>\n",
       "      <td>11</td>\n",
       "    </tr>\n",
       "    <tr>\n",
       "      <td>58507</td>\n",
       "      <td>-0.000004</td>\n",
       "      <td>0.000034</td>\n",
       "      <td>-0.000442</td>\n",
       "      <td>0.000005</td>\n",
       "      <td>0.000007</td>\n",
       "      <td>0.000087</td>\n",
       "      <td>-0.081500</td>\n",
       "      <td>-0.081534</td>\n",
       "      <td>-0.081093</td>\n",
       "      <td>-0.18363</td>\n",
       "      <td>...</td>\n",
       "      <td>-0.52033</td>\n",
       "      <td>1.3890</td>\n",
       "      <td>10.7430</td>\n",
       "      <td>-1.5029</td>\n",
       "      <td>-1.5029</td>\n",
       "      <td>-1.5030</td>\n",
       "      <td>-1.4932</td>\n",
       "      <td>-1.4932</td>\n",
       "      <td>-1.4931</td>\n",
       "      <td>11</td>\n",
       "    </tr>\n",
       "    <tr>\n",
       "      <td>58508</td>\n",
       "      <td>-0.000009</td>\n",
       "      <td>0.000052</td>\n",
       "      <td>0.000072</td>\n",
       "      <td>0.000010</td>\n",
       "      <td>0.000004</td>\n",
       "      <td>-0.000032</td>\n",
       "      <td>-0.083034</td>\n",
       "      <td>-0.083086</td>\n",
       "      <td>-0.083159</td>\n",
       "      <td>-0.18589</td>\n",
       "      <td>...</td>\n",
       "      <td>-0.50974</td>\n",
       "      <td>1.6026</td>\n",
       "      <td>4.5773</td>\n",
       "      <td>-1.5039</td>\n",
       "      <td>-1.5040</td>\n",
       "      <td>-1.5036</td>\n",
       "      <td>-1.4945</td>\n",
       "      <td>-1.4946</td>\n",
       "      <td>-1.4943</td>\n",
       "      <td>11</td>\n",
       "    </tr>\n",
       "  </tbody>\n",
       "</table>\n",
       "<p>5 rows × 49 columns</p>\n",
       "</div>"
      ],
      "text/plain": [
       "          feat0     feat1     feat2     feat3     feat4     feat5     feat6  \\\n",
       "58504 -0.000010  0.000002 -0.000021  0.000021 -0.000006 -0.000098 -0.083417   \n",
       "58505 -0.000011  0.000020  0.000031 -0.000018 -0.000106  0.000292 -0.085131   \n",
       "58506 -0.000006  0.000019 -0.000102 -0.000003  0.000004  0.000117 -0.081989   \n",
       "58507 -0.000004  0.000034 -0.000442  0.000005  0.000007  0.000087 -0.081500   \n",
       "58508 -0.000009  0.000052  0.000072  0.000010  0.000004 -0.000032 -0.083034   \n",
       "\n",
       "          feat7     feat8    feat9  ...   feat39   feat40   feat41  feat42  \\\n",
       "58504 -0.083419 -0.083398 -0.18234  ... -0.52907   1.4641   7.0032 -1.5024   \n",
       "58505 -0.085151 -0.085182 -0.18432  ... -0.51971   3.3275   2.3072 -1.5024   \n",
       "58506 -0.082008 -0.081906 -0.18614  ... -0.51103  20.9250   9.0437 -1.5035   \n",
       "58507 -0.081534 -0.081093 -0.18363  ... -0.52033   1.3890  10.7430 -1.5029   \n",
       "58508 -0.083086 -0.083159 -0.18589  ... -0.50974   1.6026   4.5773 -1.5039   \n",
       "\n",
       "       feat43  feat44  feat45  feat46  feat47  class  \n",
       "58504 -1.5025 -1.5023 -1.4933 -1.4933 -1.4933     11  \n",
       "58505 -1.5025 -1.5024 -1.4925 -1.4925 -1.4926     11  \n",
       "58506 -1.5035 -1.5039 -1.4911 -1.4912 -1.4910     11  \n",
       "58507 -1.5029 -1.5030 -1.4932 -1.4932 -1.4931     11  \n",
       "58508 -1.5040 -1.5036 -1.4945 -1.4946 -1.4943     11  \n",
       "\n",
       "[5 rows x 49 columns]"
      ]
     },
     "metadata": {},
     "output_type": "display_data"
    }
   ],
   "source": [
    "df = pd.read_csv(\"sensorless_drive_diagnosis.txt\", delim_whitespace=True, header=None)\n",
    "header_names = ['feat' + str(i) for i in range(df.shape[1]-1)]\n",
    "header_names.append('class')\n",
    "df.set_axis(header_names, axis=1, inplace=True)\n",
    "display(df.head())\n",
    "display(df.tail())"
   ]
  },
  {
   "cell_type": "markdown",
   "metadata": {},
   "source": [
    "### Basic EDA"
   ]
  },
  {
   "cell_type": "code",
   "execution_count": 3,
   "metadata": {},
   "outputs": [
    {
     "data": {
      "text/html": [
       "<div>\n",
       "<style scoped>\n",
       "    .dataframe tbody tr th:only-of-type {\n",
       "        vertical-align: middle;\n",
       "    }\n",
       "\n",
       "    .dataframe tbody tr th {\n",
       "        vertical-align: top;\n",
       "    }\n",
       "\n",
       "    .dataframe thead th {\n",
       "        text-align: right;\n",
       "    }\n",
       "</style>\n",
       "<table border=\"1\" class=\"dataframe\">\n",
       "  <thead>\n",
       "    <tr style=\"text-align: right;\">\n",
       "      <th></th>\n",
       "      <th>feat0</th>\n",
       "      <th>feat1</th>\n",
       "      <th>feat2</th>\n",
       "      <th>feat3</th>\n",
       "      <th>feat4</th>\n",
       "      <th>feat5</th>\n",
       "      <th>feat6</th>\n",
       "      <th>feat7</th>\n",
       "      <th>feat8</th>\n",
       "      <th>feat9</th>\n",
       "      <th>...</th>\n",
       "      <th>feat39</th>\n",
       "      <th>feat40</th>\n",
       "      <th>feat41</th>\n",
       "      <th>feat42</th>\n",
       "      <th>feat43</th>\n",
       "      <th>feat44</th>\n",
       "      <th>feat45</th>\n",
       "      <th>feat46</th>\n",
       "      <th>feat47</th>\n",
       "      <th>class</th>\n",
       "    </tr>\n",
       "  </thead>\n",
       "  <tbody>\n",
       "    <tr>\n",
       "      <td>count</td>\n",
       "      <td>58509.000000</td>\n",
       "      <td>5.850900e+04</td>\n",
       "      <td>5.850900e+04</td>\n",
       "      <td>58509.000000</td>\n",
       "      <td>5.850900e+04</td>\n",
       "      <td>5.850900e+04</td>\n",
       "      <td>58509.000000</td>\n",
       "      <td>58509.000000</td>\n",
       "      <td>58509.000000</td>\n",
       "      <td>58509.000000</td>\n",
       "      <td>...</td>\n",
       "      <td>58509.000000</td>\n",
       "      <td>58509.000000</td>\n",
       "      <td>58509.000000</td>\n",
       "      <td>58509.000000</td>\n",
       "      <td>58509.000000</td>\n",
       "      <td>58509.000000</td>\n",
       "      <td>58509.000000</td>\n",
       "      <td>58509.000000</td>\n",
       "      <td>58509.000000</td>\n",
       "      <td>58509.000000</td>\n",
       "    </tr>\n",
       "    <tr>\n",
       "      <td>mean</td>\n",
       "      <td>-0.000003</td>\n",
       "      <td>1.439648e-06</td>\n",
       "      <td>1.412013e-06</td>\n",
       "      <td>-0.000001</td>\n",
       "      <td>1.351239e-06</td>\n",
       "      <td>-2.654483e-07</td>\n",
       "      <td>0.001915</td>\n",
       "      <td>0.001913</td>\n",
       "      <td>0.001912</td>\n",
       "      <td>-0.011897</td>\n",
       "      <td>...</td>\n",
       "      <td>-0.397757</td>\n",
       "      <td>7.293781</td>\n",
       "      <td>8.273772</td>\n",
       "      <td>-1.500887</td>\n",
       "      <td>-1.500912</td>\n",
       "      <td>-1.500805</td>\n",
       "      <td>-1.497771</td>\n",
       "      <td>-1.497794</td>\n",
       "      <td>-1.497686</td>\n",
       "      <td>6.000000</td>\n",
       "    </tr>\n",
       "    <tr>\n",
       "      <td>std</td>\n",
       "      <td>0.000072</td>\n",
       "      <td>5.555429e-05</td>\n",
       "      <td>2.353009e-04</td>\n",
       "      <td>0.000063</td>\n",
       "      <td>5.660943e-05</td>\n",
       "      <td>2.261907e-04</td>\n",
       "      <td>0.036468</td>\n",
       "      <td>0.036465</td>\n",
       "      <td>0.036470</td>\n",
       "      <td>0.066482</td>\n",
       "      <td>...</td>\n",
       "      <td>25.018728</td>\n",
       "      <td>12.451781</td>\n",
       "      <td>6.565952</td>\n",
       "      <td>0.003657</td>\n",
       "      <td>0.003668</td>\n",
       "      <td>0.003632</td>\n",
       "      <td>0.003163</td>\n",
       "      <td>0.003163</td>\n",
       "      <td>0.003175</td>\n",
       "      <td>3.162305</td>\n",
       "    </tr>\n",
       "    <tr>\n",
       "      <td>min</td>\n",
       "      <td>-0.013721</td>\n",
       "      <td>-5.414400e-03</td>\n",
       "      <td>-1.358000e-02</td>\n",
       "      <td>-0.012787</td>\n",
       "      <td>-8.355900e-03</td>\n",
       "      <td>-9.741300e-03</td>\n",
       "      <td>-0.139890</td>\n",
       "      <td>-0.135940</td>\n",
       "      <td>-0.130860</td>\n",
       "      <td>-0.218640</td>\n",
       "      <td>...</td>\n",
       "      <td>-0.902350</td>\n",
       "      <td>-0.596830</td>\n",
       "      <td>0.320660</td>\n",
       "      <td>-1.525500</td>\n",
       "      <td>-1.526200</td>\n",
       "      <td>-1.523700</td>\n",
       "      <td>-1.521400</td>\n",
       "      <td>-1.523200</td>\n",
       "      <td>-1.521300</td>\n",
       "      <td>1.000000</td>\n",
       "    </tr>\n",
       "    <tr>\n",
       "      <td>25%</td>\n",
       "      <td>-0.000007</td>\n",
       "      <td>-1.444400e-05</td>\n",
       "      <td>-7.239600e-05</td>\n",
       "      <td>-0.000005</td>\n",
       "      <td>-1.475300e-05</td>\n",
       "      <td>-7.379100e-05</td>\n",
       "      <td>-0.019927</td>\n",
       "      <td>-0.019951</td>\n",
       "      <td>-0.019925</td>\n",
       "      <td>-0.032144</td>\n",
       "      <td>...</td>\n",
       "      <td>-0.715470</td>\n",
       "      <td>1.450300</td>\n",
       "      <td>4.436300</td>\n",
       "      <td>-1.503300</td>\n",
       "      <td>-1.503400</td>\n",
       "      <td>-1.503200</td>\n",
       "      <td>-1.499600</td>\n",
       "      <td>-1.499600</td>\n",
       "      <td>-1.499500</td>\n",
       "      <td>3.000000</td>\n",
       "    </tr>\n",
       "    <tr>\n",
       "      <td>50%</td>\n",
       "      <td>-0.000003</td>\n",
       "      <td>8.804600e-07</td>\n",
       "      <td>5.137700e-07</td>\n",
       "      <td>-0.000001</td>\n",
       "      <td>7.540200e-07</td>\n",
       "      <td>-1.659300e-07</td>\n",
       "      <td>0.013226</td>\n",
       "      <td>0.013230</td>\n",
       "      <td>0.013247</td>\n",
       "      <td>-0.015566</td>\n",
       "      <td>...</td>\n",
       "      <td>-0.661710</td>\n",
       "      <td>3.301300</td>\n",
       "      <td>6.479100</td>\n",
       "      <td>-1.500300</td>\n",
       "      <td>-1.500300</td>\n",
       "      <td>-1.500300</td>\n",
       "      <td>-1.498100</td>\n",
       "      <td>-1.498100</td>\n",
       "      <td>-1.498000</td>\n",
       "      <td>6.000000</td>\n",
       "    </tr>\n",
       "    <tr>\n",
       "      <td>75%</td>\n",
       "      <td>0.000002</td>\n",
       "      <td>1.877700e-05</td>\n",
       "      <td>7.520000e-05</td>\n",
       "      <td>0.000004</td>\n",
       "      <td>1.906200e-05</td>\n",
       "      <td>7.138600e-05</td>\n",
       "      <td>0.024770</td>\n",
       "      <td>0.024776</td>\n",
       "      <td>0.024777</td>\n",
       "      <td>0.020614</td>\n",
       "      <td>...</td>\n",
       "      <td>-0.573980</td>\n",
       "      <td>8.288500</td>\n",
       "      <td>9.857500</td>\n",
       "      <td>-1.498200</td>\n",
       "      <td>-1.498200</td>\n",
       "      <td>-1.498200</td>\n",
       "      <td>-1.496200</td>\n",
       "      <td>-1.496300</td>\n",
       "      <td>-1.496200</td>\n",
       "      <td>9.000000</td>\n",
       "    </tr>\n",
       "    <tr>\n",
       "      <td>max</td>\n",
       "      <td>0.005784</td>\n",
       "      <td>4.525300e-03</td>\n",
       "      <td>5.237700e-03</td>\n",
       "      <td>0.001453</td>\n",
       "      <td>8.245100e-04</td>\n",
       "      <td>2.753600e-03</td>\n",
       "      <td>0.069125</td>\n",
       "      <td>0.069130</td>\n",
       "      <td>0.069131</td>\n",
       "      <td>0.352580</td>\n",
       "      <td>...</td>\n",
       "      <td>3670.800000</td>\n",
       "      <td>889.930000</td>\n",
       "      <td>153.150000</td>\n",
       "      <td>-1.457600</td>\n",
       "      <td>-1.456100</td>\n",
       "      <td>-1.455500</td>\n",
       "      <td>-1.337200</td>\n",
       "      <td>-1.337200</td>\n",
       "      <td>-1.337100</td>\n",
       "      <td>11.000000</td>\n",
       "    </tr>\n",
       "  </tbody>\n",
       "</table>\n",
       "<p>8 rows × 49 columns</p>\n",
       "</div>"
      ],
      "text/plain": [
       "              feat0         feat1         feat2         feat3         feat4  \\\n",
       "count  58509.000000  5.850900e+04  5.850900e+04  58509.000000  5.850900e+04   \n",
       "mean      -0.000003  1.439648e-06  1.412013e-06     -0.000001  1.351239e-06   \n",
       "std        0.000072  5.555429e-05  2.353009e-04      0.000063  5.660943e-05   \n",
       "min       -0.013721 -5.414400e-03 -1.358000e-02     -0.012787 -8.355900e-03   \n",
       "25%       -0.000007 -1.444400e-05 -7.239600e-05     -0.000005 -1.475300e-05   \n",
       "50%       -0.000003  8.804600e-07  5.137700e-07     -0.000001  7.540200e-07   \n",
       "75%        0.000002  1.877700e-05  7.520000e-05      0.000004  1.906200e-05   \n",
       "max        0.005784  4.525300e-03  5.237700e-03      0.001453  8.245100e-04   \n",
       "\n",
       "              feat5         feat6         feat7         feat8         feat9  \\\n",
       "count  5.850900e+04  58509.000000  58509.000000  58509.000000  58509.000000   \n",
       "mean  -2.654483e-07      0.001915      0.001913      0.001912     -0.011897   \n",
       "std    2.261907e-04      0.036468      0.036465      0.036470      0.066482   \n",
       "min   -9.741300e-03     -0.139890     -0.135940     -0.130860     -0.218640   \n",
       "25%   -7.379100e-05     -0.019927     -0.019951     -0.019925     -0.032144   \n",
       "50%   -1.659300e-07      0.013226      0.013230      0.013247     -0.015566   \n",
       "75%    7.138600e-05      0.024770      0.024776      0.024777      0.020614   \n",
       "max    2.753600e-03      0.069125      0.069130      0.069131      0.352580   \n",
       "\n",
       "       ...        feat39        feat40        feat41        feat42  \\\n",
       "count  ...  58509.000000  58509.000000  58509.000000  58509.000000   \n",
       "mean   ...     -0.397757      7.293781      8.273772     -1.500887   \n",
       "std    ...     25.018728     12.451781      6.565952      0.003657   \n",
       "min    ...     -0.902350     -0.596830      0.320660     -1.525500   \n",
       "25%    ...     -0.715470      1.450300      4.436300     -1.503300   \n",
       "50%    ...     -0.661710      3.301300      6.479100     -1.500300   \n",
       "75%    ...     -0.573980      8.288500      9.857500     -1.498200   \n",
       "max    ...   3670.800000    889.930000    153.150000     -1.457600   \n",
       "\n",
       "             feat43        feat44        feat45        feat46        feat47  \\\n",
       "count  58509.000000  58509.000000  58509.000000  58509.000000  58509.000000   \n",
       "mean      -1.500912     -1.500805     -1.497771     -1.497794     -1.497686   \n",
       "std        0.003668      0.003632      0.003163      0.003163      0.003175   \n",
       "min       -1.526200     -1.523700     -1.521400     -1.523200     -1.521300   \n",
       "25%       -1.503400     -1.503200     -1.499600     -1.499600     -1.499500   \n",
       "50%       -1.500300     -1.500300     -1.498100     -1.498100     -1.498000   \n",
       "75%       -1.498200     -1.498200     -1.496200     -1.496300     -1.496200   \n",
       "max       -1.456100     -1.455500     -1.337200     -1.337200     -1.337100   \n",
       "\n",
       "              class  \n",
       "count  58509.000000  \n",
       "mean       6.000000  \n",
       "std        3.162305  \n",
       "min        1.000000  \n",
       "25%        3.000000  \n",
       "50%        6.000000  \n",
       "75%        9.000000  \n",
       "max       11.000000  \n",
       "\n",
       "[8 rows x 49 columns]"
      ]
     },
     "metadata": {},
     "output_type": "display_data"
    }
   ],
   "source": [
    "display(df.describe())"
   ]
  },
  {
   "cell_type": "code",
   "execution_count": 4,
   "metadata": {},
   "outputs": [
    {
     "name": "stdout",
     "output_type": "stream",
     "text": [
      "<class 'pandas.core.frame.DataFrame'>\n",
      "RangeIndex: 58509 entries, 0 to 58508\n",
      "Data columns (total 49 columns):\n",
      "feat0     58509 non-null float64\n",
      "feat1     58509 non-null float64\n",
      "feat2     58509 non-null float64\n",
      "feat3     58509 non-null float64\n",
      "feat4     58509 non-null float64\n",
      "feat5     58509 non-null float64\n",
      "feat6     58509 non-null float64\n",
      "feat7     58509 non-null float64\n",
      "feat8     58509 non-null float64\n",
      "feat9     58509 non-null float64\n",
      "feat10    58509 non-null float64\n",
      "feat11    58509 non-null float64\n",
      "feat12    58509 non-null float64\n",
      "feat13    58509 non-null float64\n",
      "feat14    58509 non-null float64\n",
      "feat15    58509 non-null float64\n",
      "feat16    58509 non-null float64\n",
      "feat17    58509 non-null float64\n",
      "feat18    58509 non-null float64\n",
      "feat19    58509 non-null float64\n",
      "feat20    58509 non-null float64\n",
      "feat21    58509 non-null float64\n",
      "feat22    58509 non-null float64\n",
      "feat23    58509 non-null float64\n",
      "feat24    58509 non-null float64\n",
      "feat25    58509 non-null float64\n",
      "feat26    58509 non-null float64\n",
      "feat27    58509 non-null float64\n",
      "feat28    58509 non-null float64\n",
      "feat29    58509 non-null float64\n",
      "feat30    58509 non-null float64\n",
      "feat31    58509 non-null float64\n",
      "feat32    58509 non-null float64\n",
      "feat33    58509 non-null float64\n",
      "feat34    58509 non-null float64\n",
      "feat35    58509 non-null float64\n",
      "feat36    58509 non-null float64\n",
      "feat37    58509 non-null float64\n",
      "feat38    58509 non-null float64\n",
      "feat39    58509 non-null float64\n",
      "feat40    58509 non-null float64\n",
      "feat41    58509 non-null float64\n",
      "feat42    58509 non-null float64\n",
      "feat43    58509 non-null float64\n",
      "feat44    58509 non-null float64\n",
      "feat45    58509 non-null float64\n",
      "feat46    58509 non-null float64\n",
      "feat47    58509 non-null float64\n",
      "class     58509 non-null int64\n",
      "dtypes: float64(48), int64(1)\n",
      "memory usage: 21.9 MB\n"
     ]
    }
   ],
   "source": [
    "df.info()"
   ]
  },
  {
   "cell_type": "code",
   "execution_count": 5,
   "metadata": {},
   "outputs": [
    {
     "data": {
      "text/plain": [
       "0"
      ]
     },
     "execution_count": 5,
     "metadata": {},
     "output_type": "execute_result"
    }
   ],
   "source": [
    "df.isna().sum().sum()"
   ]
  },
  {
   "cell_type": "code",
   "execution_count": 6,
   "metadata": {},
   "outputs": [
    {
     "data": {
      "text/plain": [
       "class\n",
       "1     5319\n",
       "2     5319\n",
       "3     5319\n",
       "4     5319\n",
       "5     5319\n",
       "6     5319\n",
       "7     5319\n",
       "8     5319\n",
       "9     5319\n",
       "10    5319\n",
       "11    5319\n",
       "dtype: int64"
      ]
     },
     "execution_count": 6,
     "metadata": {},
     "output_type": "execute_result"
    }
   ],
   "source": [
    "df.groupby('class').size()"
   ]
  },
  {
   "cell_type": "code",
   "execution_count": 3,
   "metadata": {
    "ExecuteTime": {
     "end_time": "2021-04-06T19:13:29.790419Z",
     "start_time": "2021-04-06T19:13:29.771418Z"
    }
   },
   "outputs": [],
   "source": [
    "X = df.drop(['class'], axis=1)\n",
    "y = df['class']"
   ]
  },
  {
   "cell_type": "markdown",
   "metadata": {},
   "source": [
    "### Splitting The Data "
   ]
  },
  {
   "cell_type": "code",
   "execution_count": 4,
   "metadata": {
    "ExecuteTime": {
     "end_time": "2021-04-06T19:13:30.792732Z",
     "start_time": "2021-04-06T19:13:30.762472Z"
    }
   },
   "outputs": [],
   "source": [
    "X_train, X_test, y_train, y_test = train_test_split(X, y, test_size=0.2, shuffle=True, random_state=42)"
   ]
  },
  {
   "cell_type": "code",
   "execution_count": 5,
   "metadata": {
    "ExecuteTime": {
     "end_time": "2021-04-06T19:13:31.467429Z",
     "start_time": "2021-04-06T19:13:31.392175Z"
    }
   },
   "outputs": [],
   "source": [
    "from sklearn.preprocessing import StandardScaler, MaxAbsScaler, MinMaxScaler\n",
    "scaler = StandardScaler()\n",
    "scaled_x_train = scaler.fit_transform(X_train)\n",
    "scaled_X_test = scaler.transform(X_test)\n",
    "scaled_X_train = pd.DataFrame(scaled_x_train, columns=X_train.columns)"
   ]
  },
  {
   "cell_type": "code",
   "execution_count": 34,
   "metadata": {},
   "outputs": [],
   "source": [
    "clf = SGDClassifier(alpha = 0.0001, max_iter= 10000, penalty='l1')\n",
    "clf.fit(scaled_X_train, y_train)\n",
    "y_pred_train = clf.predict(scaled_X_train)\n",
    "y_pred_test = clf.predict(scaled_X_test)"
   ]
  },
  {
   "cell_type": "code",
   "execution_count": 35,
   "metadata": {},
   "outputs": [
    {
     "data": {
      "text/plain": [
       "0.6236540762262861"
      ]
     },
     "execution_count": 35,
     "metadata": {},
     "output_type": "execute_result"
    }
   ],
   "source": [
    "accuracy_score(y_test, y_pred_test)"
   ]
  },
  {
   "cell_type": "code",
   "execution_count": 36,
   "metadata": {},
   "outputs": [
    {
     "data": {
      "text/plain": [
       "0.6090328369688295"
      ]
     },
     "execution_count": 36,
     "metadata": {},
     "output_type": "execute_result"
    }
   ],
   "source": [
    "accuracy_score(y_train, y_pred_train)"
   ]
  },
  {
   "cell_type": "code",
   "execution_count": null,
   "metadata": {},
   "outputs": [],
   "source": []
  },
  {
   "cell_type": "code",
   "execution_count": null,
   "metadata": {},
   "outputs": [],
   "source": []
  },
  {
   "cell_type": "code",
   "execution_count": null,
   "metadata": {},
   "outputs": [],
   "source": []
  },
  {
   "cell_type": "code",
   "execution_count": null,
   "metadata": {},
   "outputs": [],
   "source": []
  },
  {
   "cell_type": "code",
   "execution_count": 21,
   "metadata": {
    "ExecuteTime": {
     "end_time": "2021-04-06T20:34:46.204142Z",
     "start_time": "2021-04-06T20:23:40.490846Z"
    }
   },
   "outputs": [],
   "source": [
    "from sklearn.linear_model import LogisticRegression\n",
    "log = LogisticRegression(penalty='l1', solver='saga', max_iter=100000)\n",
    "log.fit(scaled_X_train, y_train)\n",
    "y_pred_train = log.predict(scaled_X_train)\n",
    "y_pred_test = log.predict(scaled_X_test)"
   ]
  },
  {
   "cell_type": "code",
   "execution_count": 22,
   "metadata": {
    "ExecuteTime": {
     "end_time": "2021-04-06T20:34:46.893787Z",
     "start_time": "2021-04-06T20:34:46.887763Z"
    }
   },
   "outputs": [
    {
     "data": {
      "text/plain": [
       "0.9092462826867203"
      ]
     },
     "execution_count": 22,
     "metadata": {},
     "output_type": "execute_result"
    }
   ],
   "source": [
    "accuracy_score(y_test, y_pred_test)"
   ]
  },
  {
   "cell_type": "code",
   "execution_count": 23,
   "metadata": {
    "ExecuteTime": {
     "end_time": "2021-04-06T20:34:47.550952Z",
     "start_time": "2021-04-06T20:34:47.542809Z"
    }
   },
   "outputs": [
    {
     "data": {
      "text/plain": [
       "0.9106116606490482"
      ]
     },
     "execution_count": 23,
     "metadata": {},
     "output_type": "execute_result"
    }
   ],
   "source": [
    "accuracy_score(y_train, y_pred_train)"
   ]
  },
  {
   "cell_type": "code",
   "execution_count": 12,
   "metadata": {
    "ExecuteTime": {
     "end_time": "2021-04-06T19:24:16.475539Z",
     "start_time": "2021-04-06T19:23:47.065958Z"
    }
   },
   "outputs": [],
   "source": [
    "from sklearn.linear_model import LogisticRegression\n",
    "log = LogisticRegression(penalty='l2', solver='newton-cg', max_iter=100000)\n",
    "log.fit(scaled_X_train, y_train)\n",
    "y_pred_train = log.predict(scaled_X_train)\n",
    "y_pred_test = log.predict(scaled_X_test)"
   ]
  },
  {
   "cell_type": "code",
   "execution_count": 13,
   "metadata": {
    "ExecuteTime": {
     "end_time": "2021-04-06T19:24:17.198285Z",
     "start_time": "2021-04-06T19:24:17.191450Z"
    }
   },
   "outputs": [
    {
     "data": {
      "text/plain": [
       "0.9175354640232439"
      ]
     },
     "execution_count": 13,
     "metadata": {},
     "output_type": "execute_result"
    }
   ],
   "source": [
    "accuracy_score(y_test, y_pred_test)"
   ]
  },
  {
   "cell_type": "code",
   "execution_count": 14,
   "metadata": {
    "ExecuteTime": {
     "end_time": "2021-04-06T19:24:18.008533Z",
     "start_time": "2021-04-06T19:24:17.999704Z"
    }
   },
   "outputs": [
    {
     "data": {
      "text/plain": [
       "0.9204392505394492"
      ]
     },
     "execution_count": 14,
     "metadata": {},
     "output_type": "execute_result"
    }
   ],
   "source": [
    "accuracy_score(y_train, y_pred_train)"
   ]
  },
  {
   "cell_type": "code",
   "execution_count": 15,
   "metadata": {
    "ExecuteTime": {
     "end_time": "2021-04-06T19:24:28.944103Z",
     "start_time": "2021-04-06T19:24:18.752341Z"
    }
   },
   "outputs": [],
   "source": [
    "from sklearn.linear_model import LogisticRegression\n",
    "log = LogisticRegression(penalty='l2', solver='lbfgs', max_iter=100000)\n",
    "log.fit(scaled_X_train, y_train)\n",
    "y_pred_train = log.predict(scaled_X_train)\n",
    "y_pred_test = log.predict(scaled_X_test)"
   ]
  },
  {
   "cell_type": "code",
   "execution_count": 16,
   "metadata": {
    "ExecuteTime": {
     "end_time": "2021-04-06T19:24:29.732143Z",
     "start_time": "2021-04-06T19:24:29.724749Z"
    }
   },
   "outputs": [
    {
     "data": {
      "text/plain": [
       "0.9175354640232439"
      ]
     },
     "execution_count": 16,
     "metadata": {},
     "output_type": "execute_result"
    }
   ],
   "source": [
    "accuracy_score(y_test, y_pred_test)"
   ]
  },
  {
   "cell_type": "code",
   "execution_count": 17,
   "metadata": {
    "ExecuteTime": {
     "end_time": "2021-04-06T19:24:30.493649Z",
     "start_time": "2021-04-06T19:24:30.484970Z"
    }
   },
   "outputs": [
    {
     "data": {
      "text/plain": [
       "0.9204392505394492"
      ]
     },
     "execution_count": 17,
     "metadata": {},
     "output_type": "execute_result"
    }
   ],
   "source": [
    "accuracy_score(y_train, y_pred_train)"
   ]
  },
  {
   "cell_type": "code",
   "execution_count": 18,
   "metadata": {
    "ExecuteTime": {
     "end_time": "2021-04-06T19:29:25.847162Z",
     "start_time": "2021-04-06T19:24:31.274952Z"
    }
   },
   "outputs": [],
   "source": [
    "from sklearn.linear_model import LogisticRegression\n",
    "log = LogisticRegression(penalty='l2', solver='sag', max_iter=100000)\n",
    "log.fit(scaled_X_train, y_train)\n",
    "y_pred_train = log.predict(scaled_X_train)\n",
    "y_pred_test = log.predict(scaled_X_test)"
   ]
  },
  {
   "cell_type": "code",
   "execution_count": 19,
   "metadata": {
    "ExecuteTime": {
     "end_time": "2021-04-06T19:29:26.558434Z",
     "start_time": "2021-04-06T19:29:26.548868Z"
    }
   },
   "outputs": [
    {
     "data": {
      "text/plain": [
       "0.9127053645822206"
      ]
     },
     "execution_count": 19,
     "metadata": {},
     "output_type": "execute_result"
    }
   ],
   "source": [
    "accuracy_score(y_train, y_pred_train)"
   ]
  },
  {
   "cell_type": "code",
   "execution_count": 20,
   "metadata": {
    "ExecuteTime": {
     "end_time": "2021-04-06T19:29:27.263630Z",
     "start_time": "2021-04-06T19:29:27.257078Z"
    }
   },
   "outputs": [
    {
     "data": {
      "text/plain": [
       "0.9120663134506922"
      ]
     },
     "execution_count": 20,
     "metadata": {},
     "output_type": "execute_result"
    }
   ],
   "source": [
    "accuracy_score(y_test, y_pred_test)"
   ]
  },
  {
   "cell_type": "code",
   "execution_count": null,
   "metadata": {},
   "outputs": [],
   "source": [
    "from sklearn.linear_model import LogisticRegression\n",
    "log = LogisticRegression(penalty='l2', solver='sag', max_iter=100000)\n",
    "log.fit(scaled_X_train, y_train)\n",
    "y_pred_train = log.predict(scaled_X_train)\n",
    "y_pred_test = log.predict(scaled_X_test)"
   ]
  },
  {
   "cell_type": "code",
   "execution_count": null,
   "metadata": {},
   "outputs": [],
   "source": [
    "accuracy_score(y_train, y_pred_train)"
   ]
  },
  {
   "cell_type": "code",
   "execution_count": null,
   "metadata": {},
   "outputs": [],
   "source": [
    "accuracy_score(y_test, y_pred_test)"
   ]
  },
  {
   "cell_type": "markdown",
   "metadata": {},
   "source": [
    "NO PENALTY"
   ]
  },
  {
   "cell_type": "code",
   "execution_count": 26,
   "metadata": {
    "ExecuteTime": {
     "end_time": "2021-04-06T21:00:53.571764Z",
     "start_time": "2021-04-06T20:53:04.946870Z"
    },
    "scrolled": true
   },
   "outputs": [
    {
     "name": "stdout",
     "output_type": "stream",
     "text": [
      "0.9102271027837716\n",
      "0.9086480943428473\n"
     ]
    }
   ],
   "source": [
    "\n",
    "log = LogisticRegression(solver='saga', max_iter=100000)\n",
    "log.fit(scaled_X_train, y_train)\n",
    "y_pred_train = log.predict(scaled_X_train)\n",
    "y_pred_test = log.predict(scaled_X_test)\n",
    "print(accuracy_score(y_train, y_pred_train))\n",
    "print(accuracy_score(y_test, y_pred_test))"
   ]
  },
  {
   "cell_type": "code",
   "execution_count": 31,
   "metadata": {
    "ExecuteTime": {
     "end_time": "2021-04-06T22:19:43.539726Z",
     "start_time": "2021-04-06T22:11:58.552289Z"
    }
   },
   "outputs": [
    {
     "name": "stdout",
     "output_type": "stream",
     "text": [
      "0.910205738457923\n",
      "0.9086480943428473\n"
     ]
    }
   ],
   "source": [
    "log = LogisticRegression(solver='saga', max_iter=10000)\n",
    "log.fit(scaled_X_train, y_train)\n",
    "y_pred_train = log.predict(scaled_X_train)\n",
    "y_pred_test = log.predict(scaled_X_test)\n",
    "print(accuracy_score(y_train, y_pred_train))\n",
    "print(accuracy_score(y_test, y_pred_test))"
   ]
  },
  {
   "cell_type": "code",
   "execution_count": 28,
   "metadata": {
    "ExecuteTime": {
     "end_time": "2021-04-06T21:15:31.975372Z",
     "start_time": "2021-04-06T21:15:02.225831Z"
    }
   },
   "outputs": [
    {
     "name": "stdout",
     "output_type": "stream",
     "text": [
      "0.9204392505394492\n",
      "0.9175354640232439\n"
     ]
    }
   ],
   "source": [
    "\n",
    "log = LogisticRegression(solver='newton-cg', max_iter=100000)\n",
    "log.fit(scaled_X_train, y_train)\n",
    "y_pred_train = log.predict(scaled_X_train)\n",
    "y_pred_test = log.predict(scaled_X_test)\n",
    "print(accuracy_score(y_train, y_pred_train))\n",
    "print(accuracy_score(y_test, y_pred_test))"
   ]
  },
  {
   "cell_type": "code",
   "execution_count": 29,
   "metadata": {
    "ExecuteTime": {
     "end_time": "2021-04-06T21:15:42.643092Z",
     "start_time": "2021-04-06T21:15:32.728047Z"
    }
   },
   "outputs": [
    {
     "name": "stdout",
     "output_type": "stream",
     "text": [
      "0.9204392505394492\n",
      "0.9175354640232439\n"
     ]
    }
   ],
   "source": [
    "\n",
    "log = LogisticRegression(solver='lbfgs', max_iter=100000)\n",
    "log.fit(scaled_X_train, y_train)\n",
    "y_pred_train = log.predict(scaled_X_train)\n",
    "y_pred_test = log.predict(scaled_X_test)\n",
    "print(accuracy_score(y_train, y_pred_train))\n",
    "print(accuracy_score(y_test, y_pred_test))"
   ]
  },
  {
   "cell_type": "code",
   "execution_count": 30,
   "metadata": {
    "ExecuteTime": {
     "end_time": "2021-04-06T21:20:32.599591Z",
     "start_time": "2021-04-06T21:15:43.530572Z"
    }
   },
   "outputs": [
    {
     "name": "stdout",
     "output_type": "stream",
     "text": [
      "0.9127053645822206\n",
      "0.9120663134506922\n"
     ]
    }
   ],
   "source": [
    "log = LogisticRegression(solver='sag', max_iter=100000)\n",
    "log.fit(scaled_X_train, y_train)\n",
    "y_pred_train = log.predict(scaled_X_train)\n",
    "y_pred_test = log.predict(scaled_X_test)\n",
    "print(accuracy_score(y_train, y_pred_train))\n",
    "print(accuracy_score(y_test, y_pred_test))"
   ]
  },
  {
   "cell_type": "code",
   "execution_count": null,
   "metadata": {},
   "outputs": [],
   "source": []
  }
 ],
 "metadata": {
  "kernelspec": {
   "display_name": "Python 3",
   "language": "python",
   "name": "python3"
  },
  "language_info": {
   "codemirror_mode": {
    "name": "ipython",
    "version": 3
   },
   "file_extension": ".py",
   "mimetype": "text/x-python",
   "name": "python",
   "nbconvert_exporter": "python",
   "pygments_lexer": "ipython3",
   "version": "3.7.4"
  },
  "toc": {
   "base_numbering": 1,
   "nav_menu": {},
   "number_sections": true,
   "sideBar": true,
   "skip_h1_title": false,
   "title_cell": "Table of Contents",
   "title_sidebar": "Contents",
   "toc_cell": false,
   "toc_position": {},
   "toc_section_display": true,
   "toc_window_display": false
  },
  "varInspector": {
   "cols": {
    "lenName": 16,
    "lenType": 16,
    "lenVar": 40
   },
   "kernels_config": {
    "python": {
     "delete_cmd_postfix": "",
     "delete_cmd_prefix": "del ",
     "library": "var_list.py",
     "varRefreshCmd": "print(var_dic_list())"
    },
    "r": {
     "delete_cmd_postfix": ") ",
     "delete_cmd_prefix": "rm(",
     "library": "var_list.r",
     "varRefreshCmd": "cat(var_dic_list()) "
    }
   },
   "types_to_exclude": [
    "module",
    "function",
    "builtin_function_or_method",
    "instance",
    "_Feature"
   ],
   "window_display": true
  }
 },
 "nbformat": 4,
 "nbformat_minor": 2
}
